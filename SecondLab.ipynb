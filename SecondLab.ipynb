{
 "metadata": {
  "language_info": {
   "codemirror_mode": {
    "name": "ipython",
    "version": 3
   },
   "file_extension": ".py",
   "mimetype": "text/x-python",
   "name": "python",
   "nbconvert_exporter": "python",
   "pygments_lexer": "ipython3",
   "version": "3.7.6-final"
  },
  "orig_nbformat": 2,
  "kernelspec": {
   "name": "python37664bitbaseconda84babefb1d3a49e89274245ca46becaf",
   "display_name": "Python 3.7.6 64-bit ('base': conda)"
  }
 },
 "nbformat": 4,
 "nbformat_minor": 2,
 "cells": [
  {
   "source": [
    "# Parte del Discurso - Part of Speech"
   ],
   "cell_type": "markdown",
   "metadata": {}
  },
  {
   "source": [
    "Este lab se enfoca en aplicar el tagging (marcado o etiquetado, en español) Part of Speech\n",
    "(POS) y de explorar los métodos que ofrece NLTK para asingar POS automáticamente.\n",
    "Para más prácticas e información sobre este tópico, puede visitar:\n",
    "http://www.nltk.org/book/ch05.html"
   ],
   "cell_type": "markdown",
   "metadata": {}
  },
  {
   "source": [
    "## NLTK Environment\n",
    "El primer paso es importar NLTK y algún corpora."
   ],
   "cell_type": "markdown",
   "metadata": {}
  },
  {
   "cell_type": "code",
   "execution_count": 1,
   "metadata": {},
   "outputs": [
    {
     "output_type": "stream",
     "name": "stdout",
     "text": [
      "showing info https://raw.githubusercontent.com/nltk/nltk_data/gh-pages/index.xml\n"
     ]
    },
    {
     "output_type": "execute_result",
     "data": {
      "text/plain": [
       "True"
      ]
     },
     "metadata": {},
     "execution_count": 1
    }
   ],
   "source": [
    "import nltk\n",
    "nltk.download()"
   ]
  },
  {
   "cell_type": "code",
   "execution_count": 2,
   "metadata": {},
   "outputs": [
    {
     "output_type": "stream",
     "name": "stdout",
     "text": [
      "*** Introductory Examples for the NLTK Book ***\n",
      "Loading text1, ..., text9 and sent1, ..., sent9\n",
      "Type the name of the text or sentence to view it.\n",
      "Type: 'texts()' or 'sents()' to list the materials.\n",
      "text1: Moby Dick by Herman Melville 1851\n",
      "text2: Sense and Sensibility by Jane Austen 1811\n",
      "text3: The Book of Genesis\n",
      "text4: Inaugural Address Corpus\n",
      "text5: Chat Corpus\n",
      "text6: Monty Python and the Holy Grail\n",
      "text7: Wall Street Journal\n",
      "text8: Personals Corpus\n",
      "text9: The Man Who Was Thursday by G . K . Chesterton 1908\n"
     ]
    }
   ],
   "source": [
    "from nltk.book import *"
   ]
  },
  {
   "source": [
    "## Part of Speech tagsets:\n",
    "\n",
    "Los POS tagger asignan etiquetas a palabras. Los tags son tomados de un tagset. Vimos dos tagsets utilizados en la clase.\n",
    "\n",
    "- Penn Treebank\n",
    "- Brown"
   ],
   "cell_type": "markdown",
   "metadata": {}
  },
  {
   "source": [
    "`nltk.help.upenn_tagset(\".*\")` Desplegará el Penn Treebank tagset, el cual contiene 45 tags."
   ],
   "cell_type": "markdown",
   "metadata": {}
  },
  {
   "cell_type": "code",
   "execution_count": 3,
   "metadata": {},
   "outputs": [
    {
     "output_type": "stream",
     "name": "stdout",
     "text": [
      "$: dollar\n    $ -$ --$ A$ C$ HK$ M$ NZ$ S$ U.S.$ US$\n'': closing quotation mark\n    ' ''\n(: opening parenthesis\n    ( [ {\n): closing parenthesis\n    ) ] }\n,: comma\n    ,\n--: dash\n    --\n.: sentence terminator\n    . ! ?\n:: colon or ellipsis\n    : ; ...\nCC: conjunction, coordinating\n    & 'n and both but either et for less minus neither nor or plus so\n    therefore times v. versus vs. whether yet\nCD: numeral, cardinal\n    mid-1890 nine-thirty forty-two one-tenth ten million 0.5 one forty-\n    seven 1987 twenty '79 zero two 78-degrees eighty-four IX '60s .025\n    fifteen 271,124 dozen quintillion DM2,000 ...\nDT: determiner\n    all an another any both del each either every half la many much nary\n    neither no some such that the them these this those\nEX: existential there\n    there\nFW: foreign word\n    gemeinschaft hund ich jeux habeas Haementeria Herr K'ang-si vous\n    lutihaw alai je jour objets salutaris fille quibusdam pas trop Monte\n    terram fiche oui corporis ...\nIN: preposition or conjunction, subordinating\n    astride among uppon whether out inside pro despite on by throughout\n    below within for towards near behind atop around if like until below\n    next into if beside ...\nJJ: adjective or numeral, ordinal\n    third ill-mannered pre-war regrettable oiled calamitous first separable\n    ectoplasmic battery-powered participatory fourth still-to-be-named\n    multilingual multi-disciplinary ...\nJJR: adjective, comparative\n    bleaker braver breezier briefer brighter brisker broader bumper busier\n    calmer cheaper choosier cleaner clearer closer colder commoner costlier\n    cozier creamier crunchier cuter ...\nJJS: adjective, superlative\n    calmest cheapest choicest classiest cleanest clearest closest commonest\n    corniest costliest crassest creepiest crudest cutest darkest deadliest\n    dearest deepest densest dinkiest ...\nLS: list item marker\n    A A. B B. C C. D E F First G H I J K One SP-44001 SP-44002 SP-44005\n    SP-44007 Second Third Three Two * a b c d first five four one six three\n    two\nMD: modal auxiliary\n    can cannot could couldn't dare may might must need ought shall should\n    shouldn't will would\nNN: noun, common, singular or mass\n    common-carrier cabbage knuckle-duster Casino afghan shed thermostat\n    investment slide humour falloff slick wind hyena override subhumanity\n    machinist ...\nNNP: noun, proper, singular\n    Motown Venneboerger Czestochwa Ranzer Conchita Trumplane Christos\n    Oceanside Escobar Kreisler Sawyer Cougar Yvette Ervin ODI Darryl CTCA\n    Shannon A.K.C. Meltex Liverpool ...\nNNPS: noun, proper, plural\n    Americans Americas Amharas Amityvilles Amusements Anarcho-Syndicalists\n    Andalusians Andes Andruses Angels Animals Anthony Antilles Antiques\n    Apache Apaches Apocrypha ...\nNNS: noun, common, plural\n    undergraduates scotches bric-a-brac products bodyguards facets coasts\n    divestitures storehouses designs clubs fragrances averages\n    subjectivists apprehensions muses factory-jobs ...\nPDT: pre-determiner\n    all both half many quite such sure this\nPOS: genitive marker\n    ' 's\nPRP: pronoun, personal\n    hers herself him himself hisself it itself me myself one oneself ours\n    ourselves ownself self she thee theirs them themselves they thou thy us\nPRP$: pronoun, possessive\n    her his mine my our ours their thy your\nRB: adverb\n    occasionally unabatingly maddeningly adventurously professedly\n    stirringly prominently technologically magisterially predominately\n    swiftly fiscally pitilessly ...\nRBR: adverb, comparative\n    further gloomier grander graver greater grimmer harder harsher\n    healthier heavier higher however larger later leaner lengthier less-\n    perfectly lesser lonelier longer louder lower more ...\nRBS: adverb, superlative\n    best biggest bluntest earliest farthest first furthest hardest\n    heartiest highest largest least less most nearest second tightest worst\nRP: particle\n    aboard about across along apart around aside at away back before behind\n    by crop down ever fast for forth from go high i.e. in into just later\n    low more off on open out over per pie raising start teeth that through\n    under unto up up-pp upon whole with you\nSYM: symbol\n    % & ' '' ''. ) ). * + ,. < = > @ A[fj] U.S U.S.S.R * ** ***\nTO: \"to\" as preposition or infinitive marker\n    to\nUH: interjection\n    Goodbye Goody Gosh Wow Jeepers Jee-sus Hubba Hey Kee-reist Oops amen\n    huh howdy uh dammit whammo shucks heck anyways whodunnit honey golly\n    man baby diddle hush sonuvabitch ...\nVB: verb, base form\n    ask assemble assess assign assume atone attention avoid bake balkanize\n    bank begin behold believe bend benefit bevel beware bless boil bomb\n    boost brace break bring broil brush build ...\nVBD: verb, past tense\n    dipped pleaded swiped regummed soaked tidied convened halted registered\n    cushioned exacted snubbed strode aimed adopted belied figgered\n    speculated wore appreciated contemplated ...\nVBG: verb, present participle or gerund\n    telegraphing stirring focusing angering judging stalling lactating\n    hankerin' alleging veering capping approaching traveling besieging\n    encrypting interrupting erasing wincing ...\nVBN: verb, past participle\n    multihulled dilapidated aerosolized chaired languished panelized used\n    experimented flourished imitated reunifed factored condensed sheared\n    unsettled primed dubbed desired ...\nVBP: verb, present tense, not 3rd person singular\n    predominate wrap resort sue twist spill cure lengthen brush terminate\n    appear tend stray glisten obtain comprise detest tease attract\n    emphasize mold postpone sever return wag ...\nVBZ: verb, present tense, 3rd person singular\n    bases reconstructs marks mixes displeases seals carps weaves snatches\n    slumps stretches authorizes smolders pictures emerges stockpiles\n    seduces fizzes uses bolsters slaps speaks pleads ...\nWDT: WH-determiner\n    that what whatever which whichever\nWP: WH-pronoun\n    that what whatever whatsoever which who whom whosoever\nWP$: WH-pronoun, possessive\n    whose\nWRB: Wh-adverb\n    how however whence whenever where whereby whereever wherein whereof why\n``: opening quotation mark\n    ` ``\n"
     ]
    }
   ],
   "source": [
    "nltk.help.upenn_tagset(\".*\")"
   ]
  },
  {
   "source": [
    "Se pueden usar expresiones regulares para mostrar un subset de los tags. Por ejemplo, reemplazando `.*` en el comando de arriba con `NN*`, se filtran solo los tags de Nouns (sustantivos). Usando `VB*` se obtienen todas las categorías de verbos.\n",
    "\n",
    "Cuántas categorías de verbos y sustantivos hay?. Recordar que tienen significados distintos. Escribí todas las categorías de tipo Noun (Sustantivo) y una breve frase describiendo qué es."
   ],
   "cell_type": "markdown",
   "metadata": {}
  },
  {
   "cell_type": "code",
   "execution_count": 4,
   "metadata": {},
   "outputs": [
    {
     "output_type": "stream",
     "name": "stdout",
     "text": [
      "NN: noun, common, singular or mass\n    common-carrier cabbage knuckle-duster Casino afghan shed thermostat\n    investment slide humour falloff slick wind hyena override subhumanity\n    machinist ...\nNNP: noun, proper, singular\n    Motown Venneboerger Czestochwa Ranzer Conchita Trumplane Christos\n    Oceanside Escobar Kreisler Sawyer Cougar Yvette Ervin ODI Darryl CTCA\n    Shannon A.K.C. Meltex Liverpool ...\nNNPS: noun, proper, plural\n    Americans Americas Amharas Amityvilles Amusements Anarcho-Syndicalists\n    Andalusians Andes Andruses Angels Animals Anthony Antilles Antiques\n    Apache Apaches Apocrypha ...\nNNS: noun, common, plural\n    undergraduates scotches bric-a-brac products bodyguards facets coasts\n    divestitures storehouses designs clubs fragrances averages\n    subjectivists apprehensions muses factory-jobs ...\n"
     ]
    }
   ],
   "source": [
    "nltk.help.upenn_tagset(\"NN*\")\n"
   ]
  },
  {
   "source": [
    "RTA: Existen 4 tipos de sustantivos.\n",
    "\n",
    "- NN: Sustantivo común - Singular\n",
    "- NNP: Sustantivo propio - Singular\n",
    "- NNPS: Sustantivo propio - Plural\n",
    "- NNS: Sustantivo común - Plural\n",
    "\n"
   ],
   "cell_type": "markdown",
   "metadata": {}
  },
  {
   "cell_type": "code",
   "execution_count": 5,
   "metadata": {},
   "outputs": [
    {
     "output_type": "stream",
     "name": "stdout",
     "text": [
      "NN: noun, singular, common\n    failure burden court fire appointment awarding compensation Mayor\n    interim committee fact effect airport management surveillance jail\n    doctor intern extern night weekend duty legislation Tax Office ...\nNN$: noun, singular, common, genitive\n    season's world's player's night's chapter's golf's football's\n    baseball's club's U.'s coach's bride's bridegroom's board's county's\n    firm's company's superintendent's mob's Navy's ...\nNN+BEZ: noun, singular, common + verb 'to be', present tense, 3rd person singular\n    water's camera's sky's kid's Pa's heat's throat's father's money's\n    undersecretary's granite's level's wife's fat's Knife's fire's name's\n    hell's leg's sun's roulette's cane's guy's kind's baseball's ...\nNN+HVD: noun, singular, common + verb 'to have', past tense\n    Pa'd\nNN+HVZ: noun, singular, common + verb 'to have', present tense, 3rd person singular\n    guy's Knife's boat's summer's rain's company's\nNN+IN: noun, singular, common + preposition\n    buncha\nNN+MD: noun, singular, common + modal auxillary\n    cowhand'd sun'll\nNN+NN: noun, singular, common, hyphenated pair\n    stomach-belly\nNNS: noun, plural, common\n    irregularities presentments thanks reports voters laws legislators\n    years areas adjustments chambers $100 bonds courts sales details raises\n    sessions members congressmen votes polls calls ...\nNNS$: noun, plural, common, genitive\n    taxpayers' children's members' States' women's cutters' motorists'\n    steelmakers' hours' Nations' lawyers' prisoners' architects' tourists'\n    Employers' secretaries' Rogues' ...\nNNS+MD: noun, plural, common + modal auxillary\n    duds'd oystchers'll\nNP: noun, singular, proper\n    Fulton Atlanta September-October Durwood Pye Ivan Allen Jr. Jan.\n    Alpharetta Grady William B. Hartsfield Pearl Williams Aug. Berry J. M.\n    Cheshire Griffin Opelika Ala. E. Pelham Snodgrass ...\nNP$: noun, singular, proper, genitive\n    Green's Landis' Smith's Carreon's Allison's Boston's Spahn's Willie's\n    Mickey's Milwaukee's Mays' Howsam's Mantle's Shaw's Wagner's Rickey's\n    Shea's Palmer's Arnold's Broglio's ...\nNP+BEZ: noun, singular, proper + verb 'to be', present tense, 3rd person singular\n    W.'s Ike's Mack's Jack's Kate's Katharine's Black's Arthur's Seaton's\n    Buckhorn's Breed's Penny's Rob's Kitty's Blackwell's Myra's Wally's\n    Lucille's Springfield's Arlene's\nNP+HVZ: noun, singular, proper + verb 'to have', present tense, 3rd person singular\n    Bill's Guardino's Celie's Skolman's Crosson's Tim's Wally's\nNP+MD: noun, singular, proper + modal auxillary\n    Gyp'll John'll\nNPS: noun, plural, proper\n    Chases Aderholds Chapelles Armisteads Lockies Carbones French Marskmen\n    Toppers Franciscans Romans Cadillacs Masons Blacks Catholics British\n    Dixiecrats Mississippians Congresses ...\nNPS$: noun, plural, proper, genitive\n    Republicans' Orioles' Birds' Yanks' Redbirds' Bucs' Yankees' Stevenses'\n    Geraghtys' Burkes' Wackers' Achaeans' Dresbachs' Russians' Democrats'\n    Gershwins' Adventists' Negroes' Catholics' ...\nNR: noun, singular, adverbial\n    Friday home Wednesday Tuesday Monday Sunday Thursday yesterday tomorrow\n    tonight West East Saturday west left east downtown north northeast\n    southeast northwest North South right ...\nNR$: noun, singular, adverbial, genitive\n    Saturday's Monday's yesterday's tonight's tomorrow's Sunday's\n    Wednesday's Friday's today's Tuesday's West's Today's South's\nNR+MD: noun, singular, adverbial + modal auxillary\n    today'll\nNRS: noun, plural, adverbial\n    Sundays Mondays Saturdays Wednesdays Souths Fridays\n"
     ]
    }
   ],
   "source": [
    "nltk.help.brown_tagset(\"NN*\")"
   ]
  },
  {
   "source": [
    "A diferencia de Penn Treebank, Brown contiene mayor cantidad de tags, y se pueden observar mayor cantidad de tipos de Nouns. Por ejemplo, la combinación de Sustantivos con Verb To Be, To Have, auxiliares, etc."
   ],
   "cell_type": "markdown",
   "metadata": {}
  },
  {
   "source": [
    "## Explorando el tagged corpora\n",
    "\n",
    "Las probabilidades de un algoritmo de POS tagging son estimadas con un corpora.\n",
    "Este corpora fue anotado (etiquetado) a mano por los lingüistas. Para visualizar cómo es un corpora de estos, hace lo siguiente."
   ],
   "cell_type": "markdown",
   "metadata": {}
  },
  {
   "cell_type": "code",
   "execution_count": 6,
   "metadata": {},
   "outputs": [],
   "source": [
    "from nltk.corpus import treebank"
   ]
  },
  {
   "cell_type": "code",
   "execution_count": 7,
   "metadata": {},
   "outputs": [
    {
     "output_type": "execute_result",
     "data": {
      "text/plain": [
       "'wsj_0001.mrg'"
      ]
     },
     "metadata": {},
     "execution_count": 7
    }
   ],
   "source": [
    "treebank.fileids()[0] # Pongo cero para que no me llene la pantalla de nombres de archivos ;)"
   ]
  },
  {
   "source": [
    "Esto despliega una lista de archivos con extensión `.mrg` que son los archivos anotados del Penn Treebank (NLTK solo contiene el 10% del corpus total de Penn Treebank, el corpus total tiene aproximadamente 1 millón de palabras)\n",
    "\n",
    "Ahora para ver el archivo junto con los POS tags, se puede usar:\n"
   ],
   "cell_type": "markdown",
   "metadata": {}
  },
  {
   "cell_type": "code",
   "execution_count": 8,
   "metadata": {},
   "outputs": [
    {
     "output_type": "execute_result",
     "data": {
      "text/plain": [
       "[('Pierre', 'NNP'),\n",
       " ('Vinken', 'NNP'),\n",
       " (',', ','),\n",
       " ('61', 'CD'),\n",
       " ('years', 'NNS'),\n",
       " ('old', 'JJ'),\n",
       " (',', ','),\n",
       " ('will', 'MD'),\n",
       " ('join', 'VB'),\n",
       " ('the', 'DT'),\n",
       " ('board', 'NN'),\n",
       " ('as', 'IN'),\n",
       " ('a', 'DT'),\n",
       " ('nonexecutive', 'JJ'),\n",
       " ('director', 'NN'),\n",
       " ('Nov.', 'NNP'),\n",
       " ('29', 'CD'),\n",
       " ('.', '.'),\n",
       " ('Mr.', 'NNP'),\n",
       " ('Vinken', 'NNP'),\n",
       " ('is', 'VBZ'),\n",
       " ('chairman', 'NN'),\n",
       " ('of', 'IN'),\n",
       " ('Elsevier', 'NNP'),\n",
       " ('N.V.', 'NNP'),\n",
       " (',', ','),\n",
       " ('the', 'DT'),\n",
       " ('Dutch', 'NNP'),\n",
       " ('publishing', 'VBG'),\n",
       " ('group', 'NN'),\n",
       " ('.', '.')]"
      ]
     },
     "metadata": {},
     "execution_count": 8
    }
   ],
   "source": [
    "treebank.tagged_words(\"wsj_0001.mrg\")[0:]"
   ]
  },
  {
   "source": [
    "El Penn Treebank está compuesto por noticias financieras del Wall Street Journal publicadas alrededor de 1989. Dado que este archivo es solo el primero ed los archivos anotados, todo el mundo académico que hace research en NLP está familiarizado con este contenido. "
   ],
   "cell_type": "markdown",
   "metadata": {}
  },
  {
   "source": [
    "Mirá todas las palabras taggeadas como sustantivos (NN). Basado en las distinciones que observaste en la sección previa, ¿Ves cómo diferentes tipos de tags de sustantivos fueron asignados a la data?\n",
    "\n",
    "En este caso `[0:]` hace la query en el archivo entero `wsj_0001.mrg`. Para archivos más largos, usa un rango más corto. Trata de ver las primeras 100 palabras de `wsj_0003.mrg`"
   ],
   "cell_type": "markdown",
   "metadata": {}
  },
  {
   "cell_type": "code",
   "execution_count": 9,
   "metadata": {},
   "outputs": [
    {
     "output_type": "stream",
     "name": "stdout",
     "text": [
      "('A', 'DT')\n('form', 'NN')\n('of', 'IN')\n('asbestos', 'NN')\n('once', 'RB')\n('used', 'VBN')\n('*', '-NONE-')\n('*', '-NONE-')\n('to', 'TO')\n('make', 'VB')\n('Kent', 'NNP')\n('cigarette', 'NN')\n('filters', 'NNS')\n('has', 'VBZ')\n('caused', 'VBN')\n('a', 'DT')\n('high', 'JJ')\n('percentage', 'NN')\n('of', 'IN')\n('cancer', 'NN')\n('deaths', 'NNS')\n('among', 'IN')\n('a', 'DT')\n('group', 'NN')\n('of', 'IN')\n('workers', 'NNS')\n('exposed', 'VBN')\n('*', '-NONE-')\n('to', 'TO')\n('it', 'PRP')\n('more', 'RBR')\n('than', 'IN')\n('30', 'CD')\n('years', 'NNS')\n('ago', 'IN')\n(',', ',')\n('researchers', 'NNS')\n('reported', 'VBD')\n('0', '-NONE-')\n('*T*-1', '-NONE-')\n('.', '.')\n('The', 'DT')\n('asbestos', 'NN')\n('fiber', 'NN')\n(',', ',')\n('crocidolite', 'NN')\n(',', ',')\n('is', 'VBZ')\n('unusually', 'RB')\n('resilient', 'JJ')\n('once', 'IN')\n('it', 'PRP')\n('enters', 'VBZ')\n('the', 'DT')\n('lungs', 'NNS')\n(',', ',')\n('with', 'IN')\n('even', 'RB')\n('brief', 'JJ')\n('exposures', 'NNS')\n('to', 'TO')\n('it', 'PRP')\n('causing', 'VBG')\n('symptoms', 'NNS')\n('that', 'WDT')\n('*T*-1', '-NONE-')\n('show', 'VBP')\n('up', 'RP')\n('decades', 'NNS')\n('later', 'JJ')\n(',', ',')\n('researchers', 'NNS')\n('said', 'VBD')\n('0', '-NONE-')\n('*T*-2', '-NONE-')\n('.', '.')\n('Lorillard', 'NNP')\n('Inc.', 'NNP')\n(',', ',')\n('the', 'DT')\n('unit', 'NN')\n('of', 'IN')\n('New', 'JJ')\n('York-based', 'JJ')\n('Loews', 'NNP')\n('Corp.', 'NNP')\n('that', 'WDT')\n('*T*-2', '-NONE-')\n('makes', 'VBZ')\n('Kent', 'NNP')\n('cigarettes', 'NNS')\n(',', ',')\n('stopped', 'VBD')\n('using', 'VBG')\n('crocidolite', 'NN')\n('in', 'IN')\n('its', 'PRP$')\n('Micronite', 'NN')\n('cigarette', 'NN')\n('filters', 'NNS')\n"
     ]
    }
   ],
   "source": [
    "cien_palabras = treebank.tagged_words(\"wsj_0003.mrg\")[0:100]\n",
    "\n",
    "for palabra in cien_palabras:\n",
    "    print(palabra)"
   ]
  },
  {
   "source": [
    "## Contando desde un corpora\n",
    "\n",
    "A veces nos preguntamos (para entender mejor el texto que estamos procesando, entre otras cosas), si una palabra en particular, aparece más frecuentemente como sustantivo o como verbo. POdemos entonces contar la frecuencia en un corpora para ver los resultados empíricos de nuestra duda.\n",
    "\n",
    "En este caso vamos a ver si la palabra inglesa `race` (carrera) aparece más veces como verbo o como sustantivo, ya que puede adoptar los dos significados.\n",
    "\n",
    "En NLTK un par `word-tag` es representado como una tupla `(word, tag)`. Vamos a crear primero dos tuplas correspondiendo a nuestras dos hipótesis:"
   ],
   "cell_type": "markdown",
   "metadata": {}
  },
  {
   "cell_type": "code",
   "execution_count": 10,
   "metadata": {},
   "outputs": [],
   "source": [
    "race1 = nltk.tag.str2tuple('race/NN')\n",
    "race2 = nltk.tag.str2tuple('race/VB')"
   ]
  },
  {
   "source": [
    "Por defecto, NLTK contiene solo ejemplos del corpus Penn Treebank, así que usaremos también el Brown corpus para los estimados."
   ],
   "cell_type": "markdown",
   "metadata": {}
  },
  {
   "cell_type": "code",
   "execution_count": 11,
   "metadata": {},
   "outputs": [],
   "source": [
    "from nltk.corpus import brown"
   ]
  },
  {
   "cell_type": "code",
   "execution_count": 12,
   "metadata": {},
   "outputs": [
    {
     "output_type": "stream",
     "name": "stdout",
     "text": [
      "El Brown Corpus tiene un tamaño de 1161192 palabras\n"
     ]
    }
   ],
   "source": [
    "print(\"El Brown Corpus tiene un tamaño de {} palabras\".format(len(brown.tagged_words())))"
   ]
  },
  {
   "source": [
    "Ahorá estimá cuán más frecuentemente aparecen estas tuplas en el Brown corpus."
   ],
   "cell_type": "markdown",
   "metadata": {}
  },
  {
   "cell_type": "code",
   "execution_count": 13,
   "metadata": {},
   "outputs": [
    {
     "output_type": "stream",
     "name": "stdout",
     "text": [
      "Race aparece 94 veces como Noun y 4 veces como Verb\n"
     ]
    }
   ],
   "source": [
    "race1_count = brown.tagged_words().count(race1)\n",
    "race2_count = brown.tagged_words().count(race2)\n",
    "\n",
    "print('Race aparece {} veces como Noun y {} veces como Verb'.format(race1_count, race2_count))"
   ]
  },
  {
   "source": [
    "Aparece más frecuentemente como Sustantivo que como Verbo, tal cual nos imaginamos."
   ],
   "cell_type": "markdown",
   "metadata": {}
  },
  {
   "source": [
    "El POS tagger HMM, usa dos fuentes de información. Una es la probabilidad de una palabra dado un tag particular P($w_{i}$|$t_{i}$). ¿Cuál es la otra fuente de información que te ayuda a taggear una oración?\n",
    "\n",
    "La secuencia de estados más probables."
   ],
   "cell_type": "markdown",
   "metadata": {}
  },
  {
   "source": [
    "## Aplicando POS Tagging a una nueva oración\n",
    "\n",
    "Estudiamos el algoritmo HMM Viterbi para POS Tagging. NLTK incluye una implementación del HMM tagger así como un par de otros.\n",
    "\n",
    "El primer tagger que usaremos sería el  `UnigramTagger`. Basado en el nombre, podrías adivinar que va a estar haciendo algo realmente simple y probablemente no se usa en ningún contexto. Así es!. El `UnigramTagger` guarda el tag más frecuente para cada palabra sobre los datos de entrenamiento (training set). Cuando ve que una palabra en una oración, le asignará el tag más frecuente a la misma. Asi que, podemos decir que no tiene en cuenta el contexto.\n",
    "\n",
    "Primero vamos a entregar un tagger de unigrams usando 5000 oraciones del Brown corpus como training data. Usando el argumento `categories = 'news'` seleccionamos solo los documentos de noticias de la colección diversa que tiene el corpus Brown."
   ],
   "cell_type": "markdown",
   "metadata": {}
  },
  {
   "cell_type": "code",
   "execution_count": 14,
   "metadata": {},
   "outputs": [],
   "source": [
    "from nltk.corpus import brown"
   ]
  },
  {
   "cell_type": "code",
   "execution_count": 15,
   "metadata": {},
   "outputs": [],
   "source": [
    "unigram_tagger = nltk.tag.UnigramTagger(brown.tagged_sents(categories = 'news')[:])"
   ]
  },
  {
   "source": [
    "Ahora `ungram_tagger` es un objeto que contiene el modelo entrenado. Aplicamos este modelo a nuestra frase de prueba `\"The Secretatiat is expected to race tomorrow\"`. **PARÁ!** Antes de ejecutar este código. qué tag te parece que le será asignado a la palabra `race` en nuestro modelo?\n",
    "\n",
    "RTA: Dado que este modelo no tiene en cuenta el contexto y vimos que es más probable que aparezca como Noun que como Verb, entonces creería que aparecerá como Noun"
   ],
   "cell_type": "markdown",
   "metadata": {}
  },
  {
   "cell_type": "code",
   "execution_count": 16,
   "metadata": {},
   "outputs": [
    {
     "output_type": "execute_result",
     "data": {
      "text/plain": [
       "[('The', 'AT'),\n",
       " ('secretariat', None),\n",
       " ('is', 'BEZ'),\n",
       " ('expected', 'VBN'),\n",
       " ('to', 'TO'),\n",
       " ('race', 'NN'),\n",
       " ('tomorrow', 'NR')]"
      ]
     },
     "metadata": {},
     "execution_count": 16
    }
   ],
   "source": [
    "from nltk import word_tokenize\n",
    "sentence = \"The secretariat is expected to race tomorrow\"\n",
    "tokenized_sentece = word_tokenize(sentence)\n",
    "unigram_tagger.tag(tokenized_sentece)"
   ]
  },
  {
   "source": [
    "Ahora vamos a usar HMM Tagger que toma en cuenta el **contexto**."
   ],
   "cell_type": "markdown",
   "metadata": {}
  },
  {
   "cell_type": "code",
   "execution_count": 17,
   "metadata": {},
   "outputs": [
    {
     "output_type": "execute_result",
     "data": {
      "text/plain": [
       "[('The', 'AT'),\n",
       " ('secretariat', 'AT'),\n",
       " ('is', 'AT'),\n",
       " ('expected', 'AT'),\n",
       " ('to', 'AT'),\n",
       " ('race', 'AT'),\n",
       " ('tomorrow', 'AT')]"
      ]
     },
     "metadata": {},
     "execution_count": 17
    }
   ],
   "source": [
    "hmm_tagger = nltk.hmm.HiddenMarkovModelTrainer().train_supervised(brown.tagged_sents(categories = 'news')[:])\n",
    "hmm_tagger.tag(tokenized_sentece)"
   ]
  },
  {
   "cell_type": "code",
   "execution_count": 18,
   "metadata": {},
   "outputs": [
    {
     "output_type": "stream",
     "name": "stdout",
     "text": [
      "AT: article\n    the an no a every th' ever' ye\n"
     ]
    }
   ],
   "source": [
    "nltk.help.brown_tagset(\"AT\") # Según esto AT es un artículo, no debería dar verb?"
   ]
  },
  {
   "source": [
    "Probá los dos modelos Unigram y HMM para otras sentencias ambiguas que se te ocurran (bank, duck, etc)"
   ],
   "cell_type": "markdown",
   "metadata": {}
  },
  {
   "cell_type": "code",
   "execution_count": 19,
   "metadata": {},
   "outputs": [],
   "source": [
    "def get_tag(sent, word_index):\n",
    "    tokenized = word_tokenize(sent)\n",
    "    word, unigram_tag = unigram_tagger.tag(tokenized)[word_index]\n",
    "    _, hmm_tag = hmm_tagger.tag(tokenized)[word_index]\n",
    "\n",
    "    print('Según Unigram Tagger, la palabra {} es {} mientras que según HMM es un {}'.format(word, unigram_tag, hmm_tag))\n"
   ]
  },
  {
   "cell_type": "code",
   "execution_count": 20,
   "metadata": {},
   "outputs": [
    {
     "output_type": "stream",
     "name": "stdout",
     "text": [
      "Según Unigram Tagger, la palabra bank es NN mientras que según HMM es un NN\nSegún Unigram Tagger, la palabra bank es NN mientras que según HMM es un AT\nSegún Unigram Tagger, la palabra duck es None mientras que según HMM es un AT\nSegún Unigram Tagger, la palabra duck es None mientras que según HMM es un AT\n"
     ]
    }
   ],
   "source": [
    "get_tag('Her bank account was rarely over two hundred', 1)\n",
    "get_tag('She sat on the river bank across from a series of wide, large steps leading up a hill to the park where the Arch stood, framed against a black sky', 5)\n",
    "get_tag('He slid up right behind her before she could duck into a shop', 9)\n",
    "get_tag('Among game birds are: wild duck and goose, partridge, francolin, some kinds of dove, and in the steppe the buzzard', 6)"
   ]
  },
  {
   "source": [
    "Ahora hagamos este ejercicio con el NLTK Book. Es posible encontrar títulos de noticias ambiguos como este:\n",
    "`Juvenile Court to Try Shooting Defendant`\n",
    "\n",
    "Manualmente taggea este titular:"
   ],
   "cell_type": "markdown",
   "metadata": {}
  },
  {
   "source": [
    "- `Juvenile` Adjetivo\n",
    "- `Court` Sustantivo\n",
    "- `to Try` Verb (También podrían separarse en preposición + verbo)\n",
    "- `Shooting` Adjetivo\n",
    "- `Defendant` Sustantivo\n"
   ],
   "cell_type": "markdown",
   "metadata": {}
  },
  {
   "cell_type": "code",
   "execution_count": 21,
   "metadata": {},
   "outputs": [
    {
     "output_type": "execute_result",
     "data": {
      "text/plain": [
       "[('Juvenile', 'JJ-TL'),\n",
       " ('Court', 'NN-TL'),\n",
       " ('to', 'IN'),\n",
       " ('Try', 'AT'),\n",
       " ('Shooting', 'AT'),\n",
       " ('Defendant', 'AT')]"
      ]
     },
     "metadata": {},
     "execution_count": 21
    }
   ],
   "source": [
    "hmm_tagger.tag(word_tokenize('Juvenile Court to Try Shooting Defendant'))"
   ]
  },
  {
   "cell_type": "code",
   "execution_count": 22,
   "metadata": {},
   "outputs": [
    {
     "output_type": "stream",
     "name": "stdout",
     "text": [
      "JJ: adjective\n    ecent over-all possible hard-fought favorable hard meager fit such\n    widespread outmoded inadequate ambiguous grand clerical effective\n    orderly federal foster general proportionate ...\n"
     ]
    }
   ],
   "source": [
    "nltk.help.brown_tagset(\"JJ\")"
   ]
  },
  {
   "cell_type": "code",
   "execution_count": null,
   "metadata": {},
   "outputs": [],
   "source": []
  }
 ]
}