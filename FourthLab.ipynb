{
 "metadata": {
  "language_info": {
   "codemirror_mode": {
    "name": "ipython",
    "version": 3
   },
   "file_extension": ".py",
   "mimetype": "text/x-python",
   "name": "python",
   "nbconvert_exporter": "python",
   "pygments_lexer": "ipython3",
   "version": "3.8.5-final"
  },
  "orig_nbformat": 2,
  "kernelspec": {
   "name": "python38564bitnlpconda58a66029c51549b7b2d39520295f4ea7",
   "display_name": "Python 3.8.5 64-bit ('nlp': conda)"
  }
 },
 "nbformat": 4,
 "nbformat_minor": 2,
 "cells": [
  {
   "source": [
    "# Laboratorio 4\n",
    "---\n",
    "\n",
    "## Semántica léxica\n",
    "\n",
    "### De qué se trata?\n",
    "\n",
    "Este laboratorio se centra en la semántica léxica y utiliza NLTK para brindarte experiencia práctica con WordNet y realizar la desambiguación del sentido de las palabras.\n",
    "El ejercicio se basa en tutoriales en el sitio web de NLTK"
   ],
   "cell_type": "markdown",
   "metadata": {}
  },
  {
   "source": [
    "### NLTK Environment\n",
    "\n",
    "El primer paso es importar NLTK y algunos corpus como en los últimos labs."
   ],
   "cell_type": "markdown",
   "metadata": {}
  },
  {
   "cell_type": "code",
   "execution_count": 1,
   "metadata": {},
   "outputs": [
    {
     "output_type": "stream",
     "name": "stdout",
     "text": [
      "showing info https://raw.githubusercontent.com/nltk/nltk_data/gh-pages/index.xml\n"
     ]
    },
    {
     "output_type": "execute_result",
     "data": {
      "text/plain": [
       "True"
      ]
     },
     "metadata": {},
     "execution_count": 1
    }
   ],
   "source": [
    "import nltk\n",
    "nltk.download()"
   ]
  },
  {
   "cell_type": "code",
   "execution_count": 2,
   "metadata": {},
   "outputs": [],
   "source": [
    "from nltk.corpus import wordnet as wn"
   ]
  },
  {
   "source": [
    "Como vimos en las clases, WordNet está organizado como synsets, cada synset es un conjunto de palabras sinónimas. Una palabra aparecerá en multiples sysnets si tiene múltiples sentidos (senses), así como también puede aparecer en más de un POS\n",
    "\n",
    "Por ejemplo: sustantivo y verbo. Podés recuperar todos los synsets asociados con una palabra usando la llamada al método synsets()"
   ],
   "cell_type": "markdown",
   "metadata": {}
  },
  {
   "cell_type": "code",
   "execution_count": 3,
   "metadata": {},
   "outputs": [
    {
     "output_type": "execute_result",
     "data": {
      "text/plain": [
       "[Synset('dog.n.01'),\n",
       " Synset('frump.n.01'),\n",
       " Synset('dog.n.03'),\n",
       " Synset('cad.n.01'),\n",
       " Synset('frank.n.02'),\n",
       " Synset('pawl.n.01'),\n",
       " Synset('andiron.n.01'),\n",
       " Synset('chase.v.01')]"
      ]
     },
     "metadata": {},
     "execution_count": 3
    }
   ],
   "source": [
    "wn.synsets('dog')"
   ]
  },
  {
   "source": [
    "Vemos que hay 7 synsets de sustantivos y 1 synset de verbos asociados con la palabra \"perro\". Puede restringir la recuperación a un POS particular utilizando el argumento POS."
   ],
   "cell_type": "markdown",
   "metadata": {}
  },
  {
   "cell_type": "code",
   "execution_count": 9,
   "metadata": {},
   "outputs": [
    {
     "output_type": "execute_result",
     "data": {
      "text/plain": [
       "[Synset('chase.v.01')]"
      ]
     },
     "metadata": {},
     "execution_count": 9
    }
   ],
   "source": [
    "wn.synsets('dog', pos = wn.VERB)"
   ]
  },
  {
   "source": [
    "Como habrás visto en los ejemplos anteriores, se hace referencia a un conjunto de sistemas en particular usando una palabra, una etiqueta de POS y un indicador de numero.\n",
    "\n",
    "Como hablamos en clase, los synsets se ordenan según la frecuencia. `dog.n.01` es el primer sentido (o el más frecuente) de perro. El segundo sentido de perro se puede denominar `dog.n.01`\n",
    "\n",
    "En la salida anterior, el segundo synset se conoce como `frump.n.1`. Este synset es también el primer synset para la palabra `frump`. Pruebe lo siguiente para comprender mejor:"
   ],
   "cell_type": "markdown",
   "metadata": {}
  },
  {
   "cell_type": "code",
   "execution_count": 10,
   "metadata": {},
   "outputs": [
    {
     "output_type": "execute_result",
     "data": {
      "text/plain": [
       "Synset('dog.n.01')"
      ]
     },
     "metadata": {},
     "execution_count": 10
    }
   ],
   "source": [
    "wn.synset('dog.n.01')"
   ]
  },
  {
   "cell_type": "code",
   "execution_count": 11,
   "metadata": {},
   "outputs": [
    {
     "output_type": "execute_result",
     "data": {
      "text/plain": [
       "Synset('frump.n.01')"
      ]
     },
     "metadata": {},
     "execution_count": 11
    }
   ],
   "source": [
    "wn.synset('dog.n.02')"
   ]
  },
  {
   "cell_type": "code",
   "execution_count": 12,
   "metadata": {},
   "outputs": [
    {
     "output_type": "execute_result",
     "data": {
      "text/plain": [
       "Synset('frump.n.01')"
      ]
     },
     "metadata": {},
     "execution_count": 12
    }
   ],
   "source": [
    "wn.synset('frump.n.01')"
   ]
  },
  {
   "source": [
    "Ahora preguntémosle a WordNet definiciones de cada sentido y los sinónimos agrupados en un synset."
   ],
   "cell_type": "markdown",
   "metadata": {}
  },
  {
   "cell_type": "code",
   "execution_count": 13,
   "metadata": {},
   "outputs": [
    {
     "output_type": "execute_result",
     "data": {
      "text/plain": [
       "'a member of the genus Canis (probably descended from the common wolf) that has been domesticated by man since prehistoric times; occurs in many breeds'"
      ]
     },
     "metadata": {},
     "execution_count": 13
    }
   ],
   "source": [
    "wn.synset('dog.n.01').definition()"
   ]
  },
  {
   "cell_type": "code",
   "execution_count": 14,
   "metadata": {},
   "outputs": [
    {
     "output_type": "execute_result",
     "data": {
      "text/plain": [
       "'a dull unattractive unpleasant girl or woman'"
      ]
     },
     "metadata": {},
     "execution_count": 14
    }
   ],
   "source": [
    "wn.synset('dog.n.02').definition()"
   ]
  },
  {
   "source": [
    "Los sinónimos de un synset pueden ser obtenidos usando el método `lemmas()`"
   ],
   "cell_type": "markdown",
   "metadata": {}
  },
  {
   "cell_type": "code",
   "execution_count": 15,
   "metadata": {},
   "outputs": [
    {
     "output_type": "execute_result",
     "data": {
      "text/plain": [
       "[Lemma('dog.n.01.dog'),\n",
       " Lemma('dog.n.01.domestic_dog'),\n",
       " Lemma('dog.n.01.Canis_familiaris')]"
      ]
     },
     "metadata": {},
     "execution_count": 15
    }
   ],
   "source": [
    "wn.synset('dog.n.01').lemmas()"
   ]
  },
  {
   "source": [
    "Hay 3 sinónimos para el synset de `dog`: `dog`, `domestig dog` y `Canis familiaris`. Estos aparecen en el output de la última instrucción.\n",
    "\n",
    "Ejercicio:\n",
    "Intenta obtener los lemas para el segundo sentido de `dog`"
   ],
   "cell_type": "markdown",
   "metadata": {}
  },
  {
   "cell_type": "code",
   "execution_count": 16,
   "metadata": {},
   "outputs": [
    {
     "output_type": "execute_result",
     "data": {
      "text/plain": [
       "[Lemma('frump.n.01.frump'), Lemma('frump.n.01.dog')]"
      ]
     },
     "metadata": {},
     "execution_count": 16
    }
   ],
   "source": [
    "wn.synset('dog.n.02').lemmas()"
   ]
  },
  {
   "source": [
    "Las otras POS son `NOUN`, `ADJ` y `ADV`. Un synset se identifica por un conjunto de 3 partes, siguiendo la forma `word.pos.nn`"
   ],
   "cell_type": "markdown",
   "metadata": {}
  },
  {
   "cell_type": "code",
   "execution_count": 18,
   "metadata": {},
   "outputs": [
    {
     "output_type": "execute_result",
     "data": {
      "text/plain": [
       "Synset('dog.n.01')"
      ]
     },
     "metadata": {},
     "execution_count": 18
    }
   ],
   "source": [
    "wn.synset('dog.n.01')"
   ]
  },
  {
   "cell_type": "code",
   "execution_count": 19,
   "metadata": {},
   "outputs": [
    {
     "output_type": "execute_result",
     "data": {
      "text/plain": [
       "['the dog barked all night']"
      ]
     },
     "metadata": {},
     "execution_count": 19
    }
   ],
   "source": [
    "wn.synset('dog.n.01').examples()"
   ]
  },
  {
   "cell_type": "code",
   "execution_count": 20,
   "metadata": {},
   "outputs": [
    {
     "output_type": "execute_result",
     "data": {
      "text/plain": [
       "[Lemma('dog.n.01.dog'),\n",
       " Lemma('dog.n.01.domestic_dog'),\n",
       " Lemma('dog.n.01.Canis_familiaris')]"
      ]
     },
     "metadata": {},
     "execution_count": 20
    }
   ],
   "source": [
    "wn.synset('dog.n.01').lemmas()"
   ]
  },
  {
   "cell_type": "code",
   "execution_count": 21,
   "metadata": {},
   "outputs": [
    {
     "output_type": "execute_result",
     "data": {
      "text/plain": [
       "['dog', 'domestic_dog', 'Canis_familiaris']"
      ]
     },
     "metadata": {},
     "execution_count": 21
    }
   ],
   "source": [
    "[str(lemma.name()) for lemma in wn.synset('dog.n.01').lemmas()]"
   ]
  },
  {
   "cell_type": "code",
   "execution_count": 22,
   "metadata": {},
   "outputs": [
    {
     "output_type": "execute_result",
     "data": {
      "text/plain": [
       "Synset('dog.n.01')"
      ]
     },
     "metadata": {},
     "execution_count": 22
    }
   ],
   "source": [
    "wn.lemma('dog.n.01.dog').synset()"
   ]
  },
  {
   "source": [
    "## Relaciones entre palabras en WordNet\n",
    "\n",
    "Ahora veamos cómo consultar las relaciones entre los synsets de WordNet. Recuerde que el hiperónimo se refiere al superconjunto de una entidad y el hipónimo se refiere a subconjuntos más específicos.\n",
    "\n",
    "Puede consultar hipernimos e hipónimos utilizando los siguientes métodos:"
   ],
   "cell_type": "markdown",
   "metadata": {}
  },
  {
   "cell_type": "code",
   "execution_count": 23,
   "metadata": {},
   "outputs": [],
   "source": [
    "dog = wn.synset('dog.n.01')"
   ]
  },
  {
   "cell_type": "code",
   "execution_count": 24,
   "metadata": {},
   "outputs": [
    {
     "output_type": "execute_result",
     "data": {
      "text/plain": [
       "[Synset('canine.n.02'), Synset('domestic_animal.n.01')]"
      ]
     },
     "metadata": {},
     "execution_count": 24
    }
   ],
   "source": [
    "dog.hypernyms()"
   ]
  },
  {
   "cell_type": "code",
   "execution_count": 26,
   "metadata": {},
   "outputs": [
    {
     "output_type": "execute_result",
     "data": {
      "text/plain": [
       "[Synset('basenji.n.01'),\n",
       " Synset('corgi.n.01'),\n",
       " Synset('cur.n.01'),\n",
       " Synset('dalmatian.n.02'),\n",
       " Synset('great_pyrenees.n.01'),\n",
       " Synset('griffon.n.02'),\n",
       " Synset('hunting_dog.n.01'),\n",
       " Synset('lapdog.n.01'),\n",
       " Synset('leonberg.n.01'),\n",
       " Synset('mexican_hairless.n.01'),\n",
       " Synset('newfoundland.n.01'),\n",
       " Synset('pooch.n.01'),\n",
       " Synset('poodle.n.01'),\n",
       " Synset('pug.n.01'),\n",
       " Synset('puppy.n.01'),\n",
       " Synset('spitz.n.01'),\n",
       " Synset('toy_dog.n.01'),\n",
       " Synset('working_dog.n.01')]"
      ]
     },
     "metadata": {},
     "execution_count": 26
    }
   ],
   "source": [
    "dog.hyponyms()"
   ]
  },
  {
   "source": [
    "Como ya vimos en la sección anterior, las formas de palabras individuales en un conjunto se conocen como lemas. Algunas relaciones solo se mantienen entre lemas (es decir, entre formas de palabras específicas) en lugar de los conjuntos de sinónimos.\n",
    "\n",
    "Por ejemplo, obtenga el primer synset asociado con el adjetivo `good` e imprima sus lemas"
   ],
   "cell_type": "markdown",
   "metadata": {}
  },
  {
   "cell_type": "code",
   "execution_count": 27,
   "metadata": {},
   "outputs": [],
   "source": [
    "good = wn.synset('good.a.01')"
   ]
  },
  {
   "cell_type": "code",
   "execution_count": 28,
   "metadata": {},
   "outputs": [
    {
     "output_type": "execute_result",
     "data": {
      "text/plain": [
       "[Lemma('good.a.01.good')]"
      ]
     },
     "metadata": {},
     "execution_count": 28
    }
   ],
   "source": [
    "good.lemmas()"
   ]
  },
  {
   "source": [
    "Solo hay una forma de lema o palabra en este sintetizador. Puede recuperar antónimos para una forma de palabra de la siguiente manera:"
   ],
   "cell_type": "markdown",
   "metadata": {}
  },
  {
   "cell_type": "code",
   "execution_count": 29,
   "metadata": {},
   "outputs": [],
   "source": [
    "g0 = good.lemmas()[0]"
   ]
  },
  {
   "cell_type": "code",
   "execution_count": 30,
   "metadata": {},
   "outputs": [
    {
     "output_type": "execute_result",
     "data": {
      "text/plain": [
       "[Lemma('bad.a.01.bad')]"
      ]
     },
     "metadata": {},
     "execution_count": 30
    }
   ],
   "source": [
    "g0.antonyms()"
   ]
  },
  {
   "source": [
    "Exploremos también dos relaciones más: `Meronym` y `Holonym`. Un merónimo de una palabra es una subparte o miembro. Un holónimo es un todo del cual la palabra es parte o miembro. Hay métodos separados en `NLTK` que obtienen merónimos/holónimos para las relacciones entre partes:"
   ],
   "cell_type": "markdown",
   "metadata": {}
  },
  {
   "cell_type": "code",
   "execution_count": 31,
   "metadata": {},
   "outputs": [
    {
     "output_type": "execute_result",
     "data": {
      "text/plain": [
       "[Synset('flag.n.07')]"
      ]
     },
     "metadata": {},
     "execution_count": 31
    }
   ],
   "source": [
    "dog.part_meronyms()"
   ]
  },
  {
   "cell_type": "code",
   "execution_count": 32,
   "metadata": {},
   "outputs": [
    {
     "output_type": "execute_result",
     "data": {
      "text/plain": [
       "[]"
      ]
     },
     "metadata": {},
     "execution_count": 32
    }
   ],
   "source": [
    "dog.member_meronyms()"
   ]
  },
  {
   "cell_type": "code",
   "execution_count": 33,
   "metadata": {},
   "outputs": [
    {
     "output_type": "execute_result",
     "data": {
      "text/plain": [
       "[Synset('canis.n.01'), Synset('pack.n.06')]"
      ]
     },
     "metadata": {},
     "execution_count": 33
    }
   ],
   "source": [
    "dog.member_holonyms()"
   ]
  },
  {
   "source": [
    "Este resultado dice que `flag.n.07` es parte de `dog.n.01` y `dog.n.01` es miembro de `canis.n.01` y `pack.n.06`"
   ],
   "cell_type": "markdown",
   "metadata": {}
  },
  {
   "source": [
    "Ejercicio:\n",
    "\n",
    "Utilizando lo que ha estudiado hasta ahora, imprima las definiciones de `flag.n.07`, `canis.n.01` y `pack.n.06` y vea si ve por qué estos synsets están relacionados de esta manera."
   ],
   "cell_type": "markdown",
   "metadata": {}
  },
  {
   "cell_type": "code",
   "execution_count": 35,
   "metadata": {},
   "outputs": [
    {
     "output_type": "execute_result",
     "data": {
      "text/plain": [
       "'a conspicuously marked or shaped tail'"
      ]
     },
     "metadata": {},
     "execution_count": 35
    }
   ],
   "source": [
    "wn.synset('flag.n.07').definition()"
   ]
  },
  {
   "cell_type": "code",
   "execution_count": 36,
   "metadata": {},
   "outputs": [
    {
     "output_type": "execute_result",
     "data": {
      "text/plain": [
       "'type genus of the Canidae: domestic and wild dogs; wolves; jackals'"
      ]
     },
     "metadata": {},
     "execution_count": 36
    }
   ],
   "source": [
    "wn.synset('canis.n.01').definition()"
   ]
  },
  {
   "cell_type": "code",
   "execution_count": 37,
   "metadata": {},
   "outputs": [
    {
     "output_type": "execute_result",
     "data": {
      "text/plain": [
       "'a group of hunting animals'"
      ]
     },
     "metadata": {},
     "execution_count": 37
    }
   ],
   "source": [
    "wn.synset('pack.n.06').definition()"
   ]
  },
  {
   "source": [
    "## Desambiguación de palabras por sentido (Word Sense Desambiguation)\n",
    "\n",
    "Como vimos en las clases, la tarea de desambiguación del sentido de las palabras es tomar una palabra en el contextio de la oración y mapearla a uno de los sentidos de la palrba, por ejemplo, asignar a un synset en WordNet\n",
    "\n",
    "Estudiamos dos enfoques, un sistema de clasificación supervisado donde las palabras de contexto entran como features (características) y el otro es el algoritmo de Lesk que utilizó el recurso del diccionario para la desambiguación.\n",
    "\n",
    "Ejercicio: Recuerde el algoritmo de Lesk. ¿Cuales fueron los pasos?\n",
    "\n",
    "- Extraer las palabras de contexto.\n",
    "- Comparar con las definiciones del diccionario / ejemplos de los diferentes sentidos\n",
    "- Tomar el sentido más adecuado\n",
    "\n",
    "Usamos el siguiente ejemplo en la clase, intentemos con el mismo.\n",
    "\n",
    "`'The bank can guarantee deposits will eventually cover future tuition costs because it invests in adjustable-rate mortgage securities'`\n",
    "\n",
    "Queremos eliminar la ambiguedad de `bank` en este contexto.\n",
    "\n",
    "Ejercicio: ¿Cuántos sentidos crees que tiene la palabra bank?\n",
    "\n",
    "- 2 o 3. Banco financiero, banco de sentarse o banco de rio.\n",
    "\n",
    "Use lo que ha estudiado hasta ahora para recuperar todos los synsets asociados con el `bank` con el POS de sustantivo. ¿Cuántos sentidos sustantivos de 'banco' hay en WordNet?\n"
   ],
   "cell_type": "markdown",
   "metadata": {}
  },
  {
   "cell_type": "code",
   "execution_count": 40,
   "metadata": {},
   "outputs": [
    {
     "output_type": "execute_result",
     "data": {
      "text/plain": [
       "[Synset('bank.n.01'),\n",
       " Synset('depository_financial_institution.n.01'),\n",
       " Synset('bank.n.03'),\n",
       " Synset('bank.n.04'),\n",
       " Synset('bank.n.05'),\n",
       " Synset('bank.n.06'),\n",
       " Synset('bank.n.07'),\n",
       " Synset('savings_bank.n.02'),\n",
       " Synset('bank.n.09'),\n",
       " Synset('bank.n.10')]"
      ]
     },
     "metadata": {},
     "execution_count": 40
    }
   ],
   "source": [
    "wn.synsets('bank', pos=wn.NOUN)"
   ]
  },
  {
   "cell_type": "code",
   "execution_count": 41,
   "metadata": {},
   "outputs": [
    {
     "output_type": "execute_result",
     "data": {
      "text/plain": [
       "10"
      ]
     },
     "metadata": {},
     "execution_count": 41
    }
   ],
   "source": [
    "len(wn.synsets('bank', pos = wn.NOUN))"
   ]
  },
  {
   "source": [
    "Ahora veamos qué nos da el `Algoritmo de Lesk`"
   ],
   "cell_type": "markdown",
   "metadata": {}
  },
  {
   "cell_type": "code",
   "execution_count": 43,
   "metadata": {},
   "outputs": [
    {
     "output_type": "execute_result",
     "data": {
      "text/plain": [
       "Synset('bank.n.05')"
      ]
     },
     "metadata": {},
     "execution_count": 43
    }
   ],
   "source": [
    "from nltk.wsd import lesk\n",
    "from nltk import word_tokenize\n",
    "s = \"The bank can guarantee deposits will eventually cover future tuition costs because it invests in adjustable-rate mortgage securities\"\n",
    "s_tok = word_tokenize(s)\n",
    "lesk(s_tok, 'bank', 'n')"
   ]
  },
  {
   "source": [
    "Ejercicio: Qué synset fue producido por Lesk?\n",
    "\n",
    "- `bank.n.05`\n",
    "\n",
    "¿Entiendes por qué tienes esta predicción? Veamos cómo `NLTK` está implementando Lesk\n",
    "\n",
    "Podés encontrar el código fuente [acá](http://www.nltk.org/_modules/nltk/wsd.html)"
   ],
   "cell_type": "markdown",
   "metadata": {}
  },
  {
   "cell_type": "code",
   "execution_count": 44,
   "metadata": {},
   "outputs": [],
   "source": [
    "l = word_tokenize((wn.synset('bank.n.05')).definition())"
   ]
  },
  {
   "cell_type": "code",
   "execution_count": 45,
   "metadata": {},
   "outputs": [],
   "source": [
    "m = word_tokenize((wn.synset('bank.n.02')).definition())"
   ]
  },
  {
   "cell_type": "code",
   "execution_count": 46,
   "metadata": {},
   "outputs": [],
   "source": [
    "k = set(s_tok)"
   ]
  },
  {
   "cell_type": "code",
   "execution_count": 47,
   "metadata": {},
   "outputs": [
    {
     "output_type": "execute_result",
     "data": {
      "text/plain": [
       "{'future', 'in'}"
      ]
     },
     "metadata": {},
     "execution_count": 47
    }
   ],
   "source": [
    "k.intersection(l)"
   ]
  },
  {
   "cell_type": "code",
   "execution_count": 48,
   "metadata": {},
   "outputs": [
    {
     "output_type": "execute_result",
     "data": {
      "text/plain": [
       "{'deposits'}"
      ]
     },
     "metadata": {},
     "execution_count": 48
    }
   ],
   "source": [
    "k.intersection(m)"
   ]
  },
  {
   "source": [
    "¿Vés ahora por qué tienes esta predicción?\n",
    "¿Qué cambios, de haber algunos, sugeriría para la correspondencia implementada por `NLTK`?\n",
    "- Ninguno"
   ],
   "cell_type": "markdown",
   "metadata": {}
  },
  {
   "cell_type": "code",
   "execution_count": null,
   "metadata": {},
   "outputs": [],
   "source": []
  }
 ]
}